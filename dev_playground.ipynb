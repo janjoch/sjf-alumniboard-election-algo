{
 "cells": [
  {
   "cell_type": "code",
   "execution_count": 7,
   "metadata": {},
   "outputs": [],
   "source": [
    "from pathlib import Path\n",
    "\n",
    "import importlib\n",
    "\n",
    "import election_algorithm as ea"
   ]
  },
  {
   "cell_type": "code",
   "execution_count": 15,
   "metadata": {},
   "outputs": [
    {
     "data": {
      "text/plain": [
       "<module 'election_algorithm' from '/Users/Janjo/Documents/MEINE DOKUMENTE/Projects/sjf-alumniboard-election-algo/election_algorithm.py'>"
      ]
     },
     "execution_count": 15,
     "metadata": {},
     "output_type": "execute_result"
    }
   ],
   "source": [
    "importlib.reload(ea)"
   ]
  },
  {
   "cell_type": "code",
   "execution_count": 51,
   "metadata": {},
   "outputs": [
    {
     "data": {
      "text/plain": [
       "True"
      ]
     },
     "execution_count": 51,
     "metadata": {},
     "output_type": "execute_result"
    }
   ],
   "source": [
    "XLSX_INPUT_PATH = Path(\"Dummy_Wahlergebnisse.xlsx\")\n",
    "\n",
    "BOOL_MAP = {\n",
    "    np.nan: False,\n",
    "    \"default\": True,\n",
    "    \"__missing__\": True,\n",
    "}\n",
    "BOOL_MAP.setdefault(\"__missing__\", \"missing\")"
   ]
  },
  {
   "cell_type": "code",
   "execution_count": 17,
   "metadata": {},
   "outputs": [],
   "source": [
    "df = ea.import_xlsx(XLSX_INPUT_PATH)"
   ]
  },
  {
   "cell_type": "code",
   "execution_count": 52,
   "metadata": {},
   "outputs": [
    {
     "data": {
      "text/plain": [
       "0       NaN\n",
       "1       NaN\n",
       "2     False\n",
       "3       NaN\n",
       "4       NaN\n",
       "5       NaN\n",
       "6     False\n",
       "7     False\n",
       "8       NaN\n",
       "9       NaN\n",
       "10    False\n",
       "11      NaN\n",
       "12      NaN\n",
       "13    False\n",
       "14      NaN\n",
       "15    False\n",
       "Name: A1, dtype: object"
      ]
     },
     "execution_count": 52,
     "metadata": {},
     "output_type": "execute_result"
    }
   ],
   "source": [
    "df[\"A1\"].map(BOOL_MAP)"
   ]
  },
  {
   "cell_type": "code",
   "execution_count": 50,
   "metadata": {},
   "outputs": [
    {
     "data": {
      "text/plain": [
       "True"
      ]
     },
     "execution_count": 50,
     "metadata": {},
     "output_type": "execute_result"
    }
   ],
   "source": [
    "BOOL_MAP[\"__missing__\"]"
   ]
  },
  {
   "cell_type": "code",
   "execution_count": null,
   "metadata": {},
   "outputs": [],
   "source": []
  }
 ],
 "metadata": {
  "kernelspec": {
   "display_name": "Python 3",
   "language": "python",
   "name": "python3"
  },
  "language_info": {
   "codemirror_mode": {
    "name": "ipython",
    "version": 3
   },
   "file_extension": ".py",
   "mimetype": "text/x-python",
   "name": "python",
   "nbconvert_exporter": "python",
   "pygments_lexer": "ipython3",
   "version": "3.8.5"
  }
 },
 "nbformat": 4,
 "nbformat_minor": 4
}
